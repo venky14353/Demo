{
  "nbformat": 4,
  "nbformat_minor": 0,
  "metadata": {
    "colab": {
      "name": "gold price prediction.ipynb",
      "provenance": [],
      "collapsed_sections": []
    },
    "kernelspec": {
      "name": "python3",
      "display_name": "Python 3"
    },
    "language_info": {
      "name": "python"
    }
  },
  "cells": [
    {
      "cell_type": "code",
      "execution_count": 1,
      "metadata": {
        "id": "e8i_JbrQyuKH"
      },
      "outputs": [],
      "source": [
        "import pandas as pd\n",
        "import numpy as np\n",
        "import matplotlib.pyplot as plt\n",
        "from sklearn.model_selection import train_test_split\n",
        "from sklearn.ensemble import RandomForestRegressor\n",
        "from sklearn import metrics"
      ]
    },
    {
      "cell_type": "code",
      "source": [
        "# load dataset and data preprocessing\n",
        "gold_data = pd.read_csv(\"/content/gld_price_data.csv\")\n",
        "gold_data.head()"
      ],
      "metadata": {
        "colab": {
          "base_uri": "https://localhost:8080/",
          "height": 206
        },
        "id": "mkttn7nryziw",
        "outputId": "f90f2b40-8a37-41c4-ce3f-4294ef3ead79"
      },
      "execution_count": 2,
      "outputs": [
        {
          "output_type": "execute_result",
          "data": {
            "text/plain": [
              "       Date          SPX        GLD        USO     SLV   EUR/USD\n",
              "0  1/2/2008  1447.160034  84.860001  78.470001  15.180  1.471692\n",
              "1  1/3/2008  1447.160034  85.570000  78.370003  15.285  1.474491\n",
              "2  1/4/2008  1411.630005  85.129997  77.309998  15.167  1.475492\n",
              "3  1/7/2008  1416.180054  84.769997  75.500000  15.053  1.468299\n",
              "4  1/8/2008  1390.189941  86.779999  76.059998  15.590  1.557099"
            ],
            "text/html": [
              "\n",
              "  <div id=\"df-c5492b99-2ce3-4df1-8d3e-aa25fef78517\">\n",
              "    <div class=\"colab-df-container\">\n",
              "      <div>\n",
              "<style scoped>\n",
              "    .dataframe tbody tr th:only-of-type {\n",
              "        vertical-align: middle;\n",
              "    }\n",
              "\n",
              "    .dataframe tbody tr th {\n",
              "        vertical-align: top;\n",
              "    }\n",
              "\n",
              "    .dataframe thead th {\n",
              "        text-align: right;\n",
              "    }\n",
              "</style>\n",
              "<table border=\"1\" class=\"dataframe\">\n",
              "  <thead>\n",
              "    <tr style=\"text-align: right;\">\n",
              "      <th></th>\n",
              "      <th>Date</th>\n",
              "      <th>SPX</th>\n",
              "      <th>GLD</th>\n",
              "      <th>USO</th>\n",
              "      <th>SLV</th>\n",
              "      <th>EUR/USD</th>\n",
              "    </tr>\n",
              "  </thead>\n",
              "  <tbody>\n",
              "    <tr>\n",
              "      <th>0</th>\n",
              "      <td>1/2/2008</td>\n",
              "      <td>1447.160034</td>\n",
              "      <td>84.860001</td>\n",
              "      <td>78.470001</td>\n",
              "      <td>15.180</td>\n",
              "      <td>1.471692</td>\n",
              "    </tr>\n",
              "    <tr>\n",
              "      <th>1</th>\n",
              "      <td>1/3/2008</td>\n",
              "      <td>1447.160034</td>\n",
              "      <td>85.570000</td>\n",
              "      <td>78.370003</td>\n",
              "      <td>15.285</td>\n",
              "      <td>1.474491</td>\n",
              "    </tr>\n",
              "    <tr>\n",
              "      <th>2</th>\n",
              "      <td>1/4/2008</td>\n",
              "      <td>1411.630005</td>\n",
              "      <td>85.129997</td>\n",
              "      <td>77.309998</td>\n",
              "      <td>15.167</td>\n",
              "      <td>1.475492</td>\n",
              "    </tr>\n",
              "    <tr>\n",
              "      <th>3</th>\n",
              "      <td>1/7/2008</td>\n",
              "      <td>1416.180054</td>\n",
              "      <td>84.769997</td>\n",
              "      <td>75.500000</td>\n",
              "      <td>15.053</td>\n",
              "      <td>1.468299</td>\n",
              "    </tr>\n",
              "    <tr>\n",
              "      <th>4</th>\n",
              "      <td>1/8/2008</td>\n",
              "      <td>1390.189941</td>\n",
              "      <td>86.779999</td>\n",
              "      <td>76.059998</td>\n",
              "      <td>15.590</td>\n",
              "      <td>1.557099</td>\n",
              "    </tr>\n",
              "  </tbody>\n",
              "</table>\n",
              "</div>\n",
              "      <button class=\"colab-df-convert\" onclick=\"convertToInteractive('df-c5492b99-2ce3-4df1-8d3e-aa25fef78517')\"\n",
              "              title=\"Convert this dataframe to an interactive table.\"\n",
              "              style=\"display:none;\">\n",
              "        \n",
              "  <svg xmlns=\"http://www.w3.org/2000/svg\" height=\"24px\"viewBox=\"0 0 24 24\"\n",
              "       width=\"24px\">\n",
              "    <path d=\"M0 0h24v24H0V0z\" fill=\"none\"/>\n",
              "    <path d=\"M18.56 5.44l.94 2.06.94-2.06 2.06-.94-2.06-.94-.94-2.06-.94 2.06-2.06.94zm-11 1L8.5 8.5l.94-2.06 2.06-.94-2.06-.94L8.5 2.5l-.94 2.06-2.06.94zm10 10l.94 2.06.94-2.06 2.06-.94-2.06-.94-.94-2.06-.94 2.06-2.06.94z\"/><path d=\"M17.41 7.96l-1.37-1.37c-.4-.4-.92-.59-1.43-.59-.52 0-1.04.2-1.43.59L10.3 9.45l-7.72 7.72c-.78.78-.78 2.05 0 2.83L4 21.41c.39.39.9.59 1.41.59.51 0 1.02-.2 1.41-.59l7.78-7.78 2.81-2.81c.8-.78.8-2.07 0-2.86zM5.41 20L4 18.59l7.72-7.72 1.47 1.35L5.41 20z\"/>\n",
              "  </svg>\n",
              "      </button>\n",
              "      \n",
              "  <style>\n",
              "    .colab-df-container {\n",
              "      display:flex;\n",
              "      flex-wrap:wrap;\n",
              "      gap: 12px;\n",
              "    }\n",
              "\n",
              "    .colab-df-convert {\n",
              "      background-color: #E8F0FE;\n",
              "      border: none;\n",
              "      border-radius: 50%;\n",
              "      cursor: pointer;\n",
              "      display: none;\n",
              "      fill: #1967D2;\n",
              "      height: 32px;\n",
              "      padding: 0 0 0 0;\n",
              "      width: 32px;\n",
              "    }\n",
              "\n",
              "    .colab-df-convert:hover {\n",
              "      background-color: #E2EBFA;\n",
              "      box-shadow: 0px 1px 2px rgba(60, 64, 67, 0.3), 0px 1px 3px 1px rgba(60, 64, 67, 0.15);\n",
              "      fill: #174EA6;\n",
              "    }\n",
              "\n",
              "    [theme=dark] .colab-df-convert {\n",
              "      background-color: #3B4455;\n",
              "      fill: #D2E3FC;\n",
              "    }\n",
              "\n",
              "    [theme=dark] .colab-df-convert:hover {\n",
              "      background-color: #434B5C;\n",
              "      box-shadow: 0px 1px 3px 1px rgba(0, 0, 0, 0.15);\n",
              "      filter: drop-shadow(0px 1px 2px rgba(0, 0, 0, 0.3));\n",
              "      fill: #FFFFFF;\n",
              "    }\n",
              "  </style>\n",
              "\n",
              "      <script>\n",
              "        const buttonEl =\n",
              "          document.querySelector('#df-c5492b99-2ce3-4df1-8d3e-aa25fef78517 button.colab-df-convert');\n",
              "        buttonEl.style.display =\n",
              "          google.colab.kernel.accessAllowed ? 'block' : 'none';\n",
              "\n",
              "        async function convertToInteractive(key) {\n",
              "          const element = document.querySelector('#df-c5492b99-2ce3-4df1-8d3e-aa25fef78517');\n",
              "          const dataTable =\n",
              "            await google.colab.kernel.invokeFunction('convertToInteractive',\n",
              "                                                     [key], {});\n",
              "          if (!dataTable) return;\n",
              "\n",
              "          const docLinkHtml = 'Like what you see? Visit the ' +\n",
              "            '<a target=\"_blank\" href=https://colab.research.google.com/notebooks/data_table.ipynb>data table notebook</a>'\n",
              "            + ' to learn more about interactive tables.';\n",
              "          element.innerHTML = '';\n",
              "          dataTable['output_type'] = 'display_data';\n",
              "          await google.colab.output.renderOutput(dataTable, element);\n",
              "          const docLink = document.createElement('div');\n",
              "          docLink.innerHTML = docLinkHtml;\n",
              "          element.appendChild(docLink);\n",
              "        }\n",
              "      </script>\n",
              "    </div>\n",
              "  </div>\n",
              "  "
            ]
          },
          "metadata": {},
          "execution_count": 2
        }
      ]
    },
    {
      "cell_type": "code",
      "source": [
        "gold_data.tail()"
      ],
      "metadata": {
        "colab": {
          "base_uri": "https://localhost:8080/",
          "height": 206
        },
        "id": "A2e_S3Fmyzlg",
        "outputId": "943521dc-8a85-4316-b4f7-7e9d81b7c916"
      },
      "execution_count": 3,
      "outputs": [
        {
          "output_type": "execute_result",
          "data": {
            "text/plain": [
              "           Date          SPX         GLD      USO      SLV   EUR/USD\n",
              "2285   5/8/2018  2671.919922  124.589996  14.0600  15.5100  1.186789\n",
              "2286   5/9/2018  2697.790039  124.330002  14.3700  15.5300  1.184722\n",
              "2287  5/10/2018  2723.070068  125.180000  14.4100  15.7400  1.191753\n",
              "2288  5/14/2018  2730.129883  124.489998  14.3800  15.5600  1.193118\n",
              "2289  5/16/2018  2725.780029  122.543800  14.4058  15.4542  1.182033"
            ],
            "text/html": [
              "\n",
              "  <div id=\"df-500a69a9-7563-423e-9bb5-0b2189ec6408\">\n",
              "    <div class=\"colab-df-container\">\n",
              "      <div>\n",
              "<style scoped>\n",
              "    .dataframe tbody tr th:only-of-type {\n",
              "        vertical-align: middle;\n",
              "    }\n",
              "\n",
              "    .dataframe tbody tr th {\n",
              "        vertical-align: top;\n",
              "    }\n",
              "\n",
              "    .dataframe thead th {\n",
              "        text-align: right;\n",
              "    }\n",
              "</style>\n",
              "<table border=\"1\" class=\"dataframe\">\n",
              "  <thead>\n",
              "    <tr style=\"text-align: right;\">\n",
              "      <th></th>\n",
              "      <th>Date</th>\n",
              "      <th>SPX</th>\n",
              "      <th>GLD</th>\n",
              "      <th>USO</th>\n",
              "      <th>SLV</th>\n",
              "      <th>EUR/USD</th>\n",
              "    </tr>\n",
              "  </thead>\n",
              "  <tbody>\n",
              "    <tr>\n",
              "      <th>2285</th>\n",
              "      <td>5/8/2018</td>\n",
              "      <td>2671.919922</td>\n",
              "      <td>124.589996</td>\n",
              "      <td>14.0600</td>\n",
              "      <td>15.5100</td>\n",
              "      <td>1.186789</td>\n",
              "    </tr>\n",
              "    <tr>\n",
              "      <th>2286</th>\n",
              "      <td>5/9/2018</td>\n",
              "      <td>2697.790039</td>\n",
              "      <td>124.330002</td>\n",
              "      <td>14.3700</td>\n",
              "      <td>15.5300</td>\n",
              "      <td>1.184722</td>\n",
              "    </tr>\n",
              "    <tr>\n",
              "      <th>2287</th>\n",
              "      <td>5/10/2018</td>\n",
              "      <td>2723.070068</td>\n",
              "      <td>125.180000</td>\n",
              "      <td>14.4100</td>\n",
              "      <td>15.7400</td>\n",
              "      <td>1.191753</td>\n",
              "    </tr>\n",
              "    <tr>\n",
              "      <th>2288</th>\n",
              "      <td>5/14/2018</td>\n",
              "      <td>2730.129883</td>\n",
              "      <td>124.489998</td>\n",
              "      <td>14.3800</td>\n",
              "      <td>15.5600</td>\n",
              "      <td>1.193118</td>\n",
              "    </tr>\n",
              "    <tr>\n",
              "      <th>2289</th>\n",
              "      <td>5/16/2018</td>\n",
              "      <td>2725.780029</td>\n",
              "      <td>122.543800</td>\n",
              "      <td>14.4058</td>\n",
              "      <td>15.4542</td>\n",
              "      <td>1.182033</td>\n",
              "    </tr>\n",
              "  </tbody>\n",
              "</table>\n",
              "</div>\n",
              "      <button class=\"colab-df-convert\" onclick=\"convertToInteractive('df-500a69a9-7563-423e-9bb5-0b2189ec6408')\"\n",
              "              title=\"Convert this dataframe to an interactive table.\"\n",
              "              style=\"display:none;\">\n",
              "        \n",
              "  <svg xmlns=\"http://www.w3.org/2000/svg\" height=\"24px\"viewBox=\"0 0 24 24\"\n",
              "       width=\"24px\">\n",
              "    <path d=\"M0 0h24v24H0V0z\" fill=\"none\"/>\n",
              "    <path d=\"M18.56 5.44l.94 2.06.94-2.06 2.06-.94-2.06-.94-.94-2.06-.94 2.06-2.06.94zm-11 1L8.5 8.5l.94-2.06 2.06-.94-2.06-.94L8.5 2.5l-.94 2.06-2.06.94zm10 10l.94 2.06.94-2.06 2.06-.94-2.06-.94-.94-2.06-.94 2.06-2.06.94z\"/><path d=\"M17.41 7.96l-1.37-1.37c-.4-.4-.92-.59-1.43-.59-.52 0-1.04.2-1.43.59L10.3 9.45l-7.72 7.72c-.78.78-.78 2.05 0 2.83L4 21.41c.39.39.9.59 1.41.59.51 0 1.02-.2 1.41-.59l7.78-7.78 2.81-2.81c.8-.78.8-2.07 0-2.86zM5.41 20L4 18.59l7.72-7.72 1.47 1.35L5.41 20z\"/>\n",
              "  </svg>\n",
              "      </button>\n",
              "      \n",
              "  <style>\n",
              "    .colab-df-container {\n",
              "      display:flex;\n",
              "      flex-wrap:wrap;\n",
              "      gap: 12px;\n",
              "    }\n",
              "\n",
              "    .colab-df-convert {\n",
              "      background-color: #E8F0FE;\n",
              "      border: none;\n",
              "      border-radius: 50%;\n",
              "      cursor: pointer;\n",
              "      display: none;\n",
              "      fill: #1967D2;\n",
              "      height: 32px;\n",
              "      padding: 0 0 0 0;\n",
              "      width: 32px;\n",
              "    }\n",
              "\n",
              "    .colab-df-convert:hover {\n",
              "      background-color: #E2EBFA;\n",
              "      box-shadow: 0px 1px 2px rgba(60, 64, 67, 0.3), 0px 1px 3px 1px rgba(60, 64, 67, 0.15);\n",
              "      fill: #174EA6;\n",
              "    }\n",
              "\n",
              "    [theme=dark] .colab-df-convert {\n",
              "      background-color: #3B4455;\n",
              "      fill: #D2E3FC;\n",
              "    }\n",
              "\n",
              "    [theme=dark] .colab-df-convert:hover {\n",
              "      background-color: #434B5C;\n",
              "      box-shadow: 0px 1px 3px 1px rgba(0, 0, 0, 0.15);\n",
              "      filter: drop-shadow(0px 1px 2px rgba(0, 0, 0, 0.3));\n",
              "      fill: #FFFFFF;\n",
              "    }\n",
              "  </style>\n",
              "\n",
              "      <script>\n",
              "        const buttonEl =\n",
              "          document.querySelector('#df-500a69a9-7563-423e-9bb5-0b2189ec6408 button.colab-df-convert');\n",
              "        buttonEl.style.display =\n",
              "          google.colab.kernel.accessAllowed ? 'block' : 'none';\n",
              "\n",
              "        async function convertToInteractive(key) {\n",
              "          const element = document.querySelector('#df-500a69a9-7563-423e-9bb5-0b2189ec6408');\n",
              "          const dataTable =\n",
              "            await google.colab.kernel.invokeFunction('convertToInteractive',\n",
              "                                                     [key], {});\n",
              "          if (!dataTable) return;\n",
              "\n",
              "          const docLinkHtml = 'Like what you see? Visit the ' +\n",
              "            '<a target=\"_blank\" href=https://colab.research.google.com/notebooks/data_table.ipynb>data table notebook</a>'\n",
              "            + ' to learn more about interactive tables.';\n",
              "          element.innerHTML = '';\n",
              "          dataTable['output_type'] = 'display_data';\n",
              "          await google.colab.output.renderOutput(dataTable, element);\n",
              "          const docLink = document.createElement('div');\n",
              "          docLink.innerHTML = docLinkHtml;\n",
              "          element.appendChild(docLink);\n",
              "        }\n",
              "      </script>\n",
              "    </div>\n",
              "  </div>\n",
              "  "
            ]
          },
          "metadata": {},
          "execution_count": 3
        }
      ]
    },
    {
      "cell_type": "code",
      "source": [
        "gold_data.shape"
      ],
      "metadata": {
        "colab": {
          "base_uri": "https://localhost:8080/"
        },
        "id": "iZUQj-qpyzoP",
        "outputId": "2428fb5e-f1e4-4fd9-b309-b98796b20082"
      },
      "execution_count": 4,
      "outputs": [
        {
          "output_type": "execute_result",
          "data": {
            "text/plain": [
              "(2290, 6)"
            ]
          },
          "metadata": {},
          "execution_count": 4
        }
      ]
    },
    {
      "cell_type": "code",
      "source": [
        "gold_data.info()"
      ],
      "metadata": {
        "colab": {
          "base_uri": "https://localhost:8080/"
        },
        "id": "ETXX7V0kyzrA",
        "outputId": "c523aeb7-e00d-40f3-bbe5-72550b3dceec"
      },
      "execution_count": 5,
      "outputs": [
        {
          "output_type": "stream",
          "name": "stdout",
          "text": [
            "<class 'pandas.core.frame.DataFrame'>\n",
            "RangeIndex: 2290 entries, 0 to 2289\n",
            "Data columns (total 6 columns):\n",
            " #   Column   Non-Null Count  Dtype  \n",
            "---  ------   --------------  -----  \n",
            " 0   Date     2290 non-null   object \n",
            " 1   SPX      2290 non-null   float64\n",
            " 2   GLD      2290 non-null   float64\n",
            " 3   USO      2290 non-null   float64\n",
            " 4   SLV      2290 non-null   float64\n",
            " 5   EUR/USD  2290 non-null   float64\n",
            "dtypes: float64(5), object(1)\n",
            "memory usage: 107.5+ KB\n"
          ]
        }
      ]
    },
    {
      "cell_type": "code",
      "source": [
        "gold_data.isnull().sum()"
      ],
      "metadata": {
        "colab": {
          "base_uri": "https://localhost:8080/"
        },
        "id": "gAAaosFlyzt8",
        "outputId": "a500953c-a5d6-4e44-f120-307d24bf5fdc"
      },
      "execution_count": 6,
      "outputs": [
        {
          "output_type": "execute_result",
          "data": {
            "text/plain": [
              "Date       0\n",
              "SPX        0\n",
              "GLD        0\n",
              "USO        0\n",
              "SLV        0\n",
              "EUR/USD    0\n",
              "dtype: int64"
            ]
          },
          "metadata": {},
          "execution_count": 6
        }
      ]
    },
    {
      "cell_type": "code",
      "source": [
        "gold_data.describe()"
      ],
      "metadata": {
        "colab": {
          "base_uri": "https://localhost:8080/",
          "height": 300
        },
        "id": "7AeC8nlGyzwX",
        "outputId": "693d49a0-ea7d-4994-8328-465694733e9e"
      },
      "execution_count": 7,
      "outputs": [
        {
          "output_type": "execute_result",
          "data": {
            "text/plain": [
              "               SPX          GLD          USO          SLV      EUR/USD\n",
              "count  2290.000000  2290.000000  2290.000000  2290.000000  2290.000000\n",
              "mean   1654.315776   122.732875    31.842221    20.084997     1.283653\n",
              "std     519.111540    23.283346    19.523517     7.092566     0.131547\n",
              "min     676.530029    70.000000     7.960000     8.850000     1.039047\n",
              "25%    1239.874969   109.725000    14.380000    15.570000     1.171313\n",
              "50%    1551.434998   120.580002    33.869999    17.268500     1.303297\n",
              "75%    2073.010070   132.840004    37.827501    22.882500     1.369971\n",
              "max    2872.870117   184.589996   117.480003    47.259998     1.598798"
            ],
            "text/html": [
              "\n",
              "  <div id=\"df-7a13051f-fb65-47d2-92d6-cffb9ad5fea2\">\n",
              "    <div class=\"colab-df-container\">\n",
              "      <div>\n",
              "<style scoped>\n",
              "    .dataframe tbody tr th:only-of-type {\n",
              "        vertical-align: middle;\n",
              "    }\n",
              "\n",
              "    .dataframe tbody tr th {\n",
              "        vertical-align: top;\n",
              "    }\n",
              "\n",
              "    .dataframe thead th {\n",
              "        text-align: right;\n",
              "    }\n",
              "</style>\n",
              "<table border=\"1\" class=\"dataframe\">\n",
              "  <thead>\n",
              "    <tr style=\"text-align: right;\">\n",
              "      <th></th>\n",
              "      <th>SPX</th>\n",
              "      <th>GLD</th>\n",
              "      <th>USO</th>\n",
              "      <th>SLV</th>\n",
              "      <th>EUR/USD</th>\n",
              "    </tr>\n",
              "  </thead>\n",
              "  <tbody>\n",
              "    <tr>\n",
              "      <th>count</th>\n",
              "      <td>2290.000000</td>\n",
              "      <td>2290.000000</td>\n",
              "      <td>2290.000000</td>\n",
              "      <td>2290.000000</td>\n",
              "      <td>2290.000000</td>\n",
              "    </tr>\n",
              "    <tr>\n",
              "      <th>mean</th>\n",
              "      <td>1654.315776</td>\n",
              "      <td>122.732875</td>\n",
              "      <td>31.842221</td>\n",
              "      <td>20.084997</td>\n",
              "      <td>1.283653</td>\n",
              "    </tr>\n",
              "    <tr>\n",
              "      <th>std</th>\n",
              "      <td>519.111540</td>\n",
              "      <td>23.283346</td>\n",
              "      <td>19.523517</td>\n",
              "      <td>7.092566</td>\n",
              "      <td>0.131547</td>\n",
              "    </tr>\n",
              "    <tr>\n",
              "      <th>min</th>\n",
              "      <td>676.530029</td>\n",
              "      <td>70.000000</td>\n",
              "      <td>7.960000</td>\n",
              "      <td>8.850000</td>\n",
              "      <td>1.039047</td>\n",
              "    </tr>\n",
              "    <tr>\n",
              "      <th>25%</th>\n",
              "      <td>1239.874969</td>\n",
              "      <td>109.725000</td>\n",
              "      <td>14.380000</td>\n",
              "      <td>15.570000</td>\n",
              "      <td>1.171313</td>\n",
              "    </tr>\n",
              "    <tr>\n",
              "      <th>50%</th>\n",
              "      <td>1551.434998</td>\n",
              "      <td>120.580002</td>\n",
              "      <td>33.869999</td>\n",
              "      <td>17.268500</td>\n",
              "      <td>1.303297</td>\n",
              "    </tr>\n",
              "    <tr>\n",
              "      <th>75%</th>\n",
              "      <td>2073.010070</td>\n",
              "      <td>132.840004</td>\n",
              "      <td>37.827501</td>\n",
              "      <td>22.882500</td>\n",
              "      <td>1.369971</td>\n",
              "    </tr>\n",
              "    <tr>\n",
              "      <th>max</th>\n",
              "      <td>2872.870117</td>\n",
              "      <td>184.589996</td>\n",
              "      <td>117.480003</td>\n",
              "      <td>47.259998</td>\n",
              "      <td>1.598798</td>\n",
              "    </tr>\n",
              "  </tbody>\n",
              "</table>\n",
              "</div>\n",
              "      <button class=\"colab-df-convert\" onclick=\"convertToInteractive('df-7a13051f-fb65-47d2-92d6-cffb9ad5fea2')\"\n",
              "              title=\"Convert this dataframe to an interactive table.\"\n",
              "              style=\"display:none;\">\n",
              "        \n",
              "  <svg xmlns=\"http://www.w3.org/2000/svg\" height=\"24px\"viewBox=\"0 0 24 24\"\n",
              "       width=\"24px\">\n",
              "    <path d=\"M0 0h24v24H0V0z\" fill=\"none\"/>\n",
              "    <path d=\"M18.56 5.44l.94 2.06.94-2.06 2.06-.94-2.06-.94-.94-2.06-.94 2.06-2.06.94zm-11 1L8.5 8.5l.94-2.06 2.06-.94-2.06-.94L8.5 2.5l-.94 2.06-2.06.94zm10 10l.94 2.06.94-2.06 2.06-.94-2.06-.94-.94-2.06-.94 2.06-2.06.94z\"/><path d=\"M17.41 7.96l-1.37-1.37c-.4-.4-.92-.59-1.43-.59-.52 0-1.04.2-1.43.59L10.3 9.45l-7.72 7.72c-.78.78-.78 2.05 0 2.83L4 21.41c.39.39.9.59 1.41.59.51 0 1.02-.2 1.41-.59l7.78-7.78 2.81-2.81c.8-.78.8-2.07 0-2.86zM5.41 20L4 18.59l7.72-7.72 1.47 1.35L5.41 20z\"/>\n",
              "  </svg>\n",
              "      </button>\n",
              "      \n",
              "  <style>\n",
              "    .colab-df-container {\n",
              "      display:flex;\n",
              "      flex-wrap:wrap;\n",
              "      gap: 12px;\n",
              "    }\n",
              "\n",
              "    .colab-df-convert {\n",
              "      background-color: #E8F0FE;\n",
              "      border: none;\n",
              "      border-radius: 50%;\n",
              "      cursor: pointer;\n",
              "      display: none;\n",
              "      fill: #1967D2;\n",
              "      height: 32px;\n",
              "      padding: 0 0 0 0;\n",
              "      width: 32px;\n",
              "    }\n",
              "\n",
              "    .colab-df-convert:hover {\n",
              "      background-color: #E2EBFA;\n",
              "      box-shadow: 0px 1px 2px rgba(60, 64, 67, 0.3), 0px 1px 3px 1px rgba(60, 64, 67, 0.15);\n",
              "      fill: #174EA6;\n",
              "    }\n",
              "\n",
              "    [theme=dark] .colab-df-convert {\n",
              "      background-color: #3B4455;\n",
              "      fill: #D2E3FC;\n",
              "    }\n",
              "\n",
              "    [theme=dark] .colab-df-convert:hover {\n",
              "      background-color: #434B5C;\n",
              "      box-shadow: 0px 1px 3px 1px rgba(0, 0, 0, 0.15);\n",
              "      filter: drop-shadow(0px 1px 2px rgba(0, 0, 0, 0.3));\n",
              "      fill: #FFFFFF;\n",
              "    }\n",
              "  </style>\n",
              "\n",
              "      <script>\n",
              "        const buttonEl =\n",
              "          document.querySelector('#df-7a13051f-fb65-47d2-92d6-cffb9ad5fea2 button.colab-df-convert');\n",
              "        buttonEl.style.display =\n",
              "          google.colab.kernel.accessAllowed ? 'block' : 'none';\n",
              "\n",
              "        async function convertToInteractive(key) {\n",
              "          const element = document.querySelector('#df-7a13051f-fb65-47d2-92d6-cffb9ad5fea2');\n",
              "          const dataTable =\n",
              "            await google.colab.kernel.invokeFunction('convertToInteractive',\n",
              "                                                     [key], {});\n",
              "          if (!dataTable) return;\n",
              "\n",
              "          const docLinkHtml = 'Like what you see? Visit the ' +\n",
              "            '<a target=\"_blank\" href=https://colab.research.google.com/notebooks/data_table.ipynb>data table notebook</a>'\n",
              "            + ' to learn more about interactive tables.';\n",
              "          element.innerHTML = '';\n",
              "          dataTable['output_type'] = 'display_data';\n",
              "          await google.colab.output.renderOutput(dataTable, element);\n",
              "          const docLink = document.createElement('div');\n",
              "          docLink.innerHTML = docLinkHtml;\n",
              "          element.appendChild(docLink);\n",
              "        }\n",
              "      </script>\n",
              "    </div>\n",
              "  </div>\n",
              "  "
            ]
          },
          "metadata": {},
          "execution_count": 7
        }
      ]
    },
    {
      "cell_type": "code",
      "source": [
        "# finding the correlation between values\n",
        "correlation = gold_data.corr()"
      ],
      "metadata": {
        "id": "Swm37D2tyzy_"
      },
      "execution_count": 8,
      "outputs": []
    },
    {
      "cell_type": "code",
      "source": [
        "import seaborn as sns\n",
        "sns.heatmap(correlation, cbar= True, square = True, fmt = '.1f', annot=True, annot_kws={'size':8}, cmap='Blues')"
      ],
      "metadata": {
        "colab": {
          "base_uri": "https://localhost:8080/",
          "height": 286
        },
        "id": "qqT3Ys83yz2A",
        "outputId": "b0d7fc61-b278-450f-c787-9ea6054d4cc0"
      },
      "execution_count": 10,
      "outputs": [
        {
          "output_type": "execute_result",
          "data": {
            "text/plain": [
              "<matplotlib.axes._subplots.AxesSubplot at 0x7f43e9c28610>"
            ]
          },
          "metadata": {},
          "execution_count": 10
        },
        {
          "output_type": "display_data",
          "data": {
            "text/plain": [
              "<Figure size 432x288 with 2 Axes>"
            ],
            "image/png": "[encoded data removed]"
          },
          "metadata": {
            "needs_background": "light"
          }
        }
      ]
    },
    {
      "cell_type": "code",
      "source": [
        "# correlation values of GLD\n",
        "print(correlation['GLD'])"
      ],
      "metadata": {
        "colab": {
          "base_uri": "https://localhost:8080/"
        },
        "id": "oolwtX_Uyz44",
        "outputId": "4f4ff30e-5458-464e-a626-13850658dee3"
      },
      "execution_count": 13,
      "outputs": [
        {
          "output_type": "stream",
          "name": "stdout",
          "text": [
            "SPX        0.049345\n",
            "GLD        1.000000\n",
            "USO       -0.186360\n",
            "SLV        0.866632\n",
            "EUR/USD   -0.024375\n",
            "Name: GLD, dtype: float64\n"
          ]
        }
      ]
    },
    {
      "cell_type": "code",
      "source": [
        "# checking the distribution of GLD price\n",
        "sns.distplot(gold_data['GLD'], color = 'green')"
      ],
      "metadata": {
        "colab": {
          "base_uri": "https://localhost:8080/",
          "height": 355
        },
        "id": "MqbAHn4yyz7h",
        "outputId": "87fae965-8abf-46d8-cb82-fe0777a5172b"
      },
      "execution_count": 16,
      "outputs": [
        {
          "output_type": "stream",
          "name": "stderr",
          "text": [
            "/usr/local/lib/python3.7/dist-packages/seaborn/distributions.py:2619: FutureWarning: `distplot` is a deprecated function and will be removed in a future version. Please adapt your code to use either `displot` (a figure-level function with similar flexibility) or `histplot` (an axes-level function for histograms).\n",
            "  warnings.warn(msg, FutureWarning)\n"
          ]
        },
        {
          "output_type": "execute_result",
          "data": {
            "text/plain": [
              "<matplotlib.axes._subplots.AxesSubplot at 0x7f43e1f9b350>"
            ]
          },
          "metadata": {},
          "execution_count": 16
        },
        {
          "output_type": "display_data",
          "data": {
            "text/plain": [
              "<Figure size 432x288 with 1 Axes>"
            ],
            "image/png": "[encoded data removed]"
          },
          "metadata": {
            "needs_background": "light"
          }
        }
      ]
    },
    {
      "cell_type": "code",
      "source": [
        "# splitting data into features and target\n",
        "X = gold_data.drop(columns=['Date', 'GLD'], axis=1)\n",
        "Y = gold_data['GLD']"
      ],
      "metadata": {
        "id": "vimMVSg0yz-d"
      },
      "execution_count": 17,
      "outputs": []
    },
    {
      "cell_type": "code",
      "source": [
        "print(X)\n",
        "print(Y)"
      ],
      "metadata": {
        "colab": {
          "base_uri": "https://localhost:8080/"
        },
        "id": "yhIykxBqy0BY",
        "outputId": "957b87f2-e3a2-4eab-914b-dff9f3a1b4b4"
      },
      "execution_count": 18,
      "outputs": [
        {
          "output_type": "stream",
          "name": "stdout",
          "text": [
            "              SPX        USO      SLV   EUR/USD\n",
            "0     1447.160034  78.470001  15.1800  1.471692\n",
            "1     1447.160034  78.370003  15.2850  1.474491\n",
            "2     1411.630005  77.309998  15.1670  1.475492\n",
            "3     1416.180054  75.500000  15.0530  1.468299\n",
            "4     1390.189941  76.059998  15.5900  1.557099\n",
            "...           ...        ...      ...       ...\n",
            "2285  2671.919922  14.060000  15.5100  1.186789\n",
            "2286  2697.790039  14.370000  15.5300  1.184722\n",
            "2287  2723.070068  14.410000  15.7400  1.191753\n",
            "2288  2730.129883  14.380000  15.5600  1.193118\n",
            "2289  2725.780029  14.405800  15.4542  1.182033\n",
            "\n",
            "[2290 rows x 4 columns]\n",
            "0        84.860001\n",
            "1        85.570000\n",
            "2        85.129997\n",
            "3        84.769997\n",
            "4        86.779999\n",
            "           ...    \n",
            "2285    124.589996\n",
            "2286    124.330002\n",
            "2287    125.180000\n",
            "2288    124.489998\n",
            "2289    122.543800\n",
            "Name: GLD, Length: 2290, dtype: float64\n"
          ]
        }
      ]
    },
    {
      "cell_type": "code",
      "source": [
        "# splitting data into training and testing data\n",
        "X_train, X_test, Y_train, Y_test = train_test_split(X, Y, test_size=0.2, random_state=2)"
      ],
      "metadata": {
        "id": "OI9j_0wNy0EL"
      },
      "execution_count": 19,
      "outputs": []
    },
    {
      "cell_type": "code",
      "source": [
        "X.shape, X_train.shape, X_test.shape"
      ],
      "metadata": {
        "colab": {
          "base_uri": "https://localhost:8080/"
        },
        "id": "fBIy5fA8y0HX",
        "outputId": "2fbec572-e483-434d-95d6-daae35b8630b"
      },
      "execution_count": 20,
      "outputs": [
        {
          "output_type": "execute_result",
          "data": {
            "text/plain": [
              "((2290, 4), (1832, 4), (458, 4))"
            ]
          },
          "metadata": {},
          "execution_count": 20
        }
      ]
    },
    {
      "cell_type": "code",
      "source": [
        "# model training : Random Forest Regressor\n",
        "regressor = RandomForestRegressor().fit(X_train, Y_train)"
      ],
      "metadata": {
        "id": "1o4Ta8Gby0LY"
      },
      "execution_count": 21,
      "outputs": []
    },
    {
      "cell_type": "code",
      "source": [
        "# model evaluation - prediction on test data\n",
        "test_data_accuracy = regressor.predict(X_test)\n",
        "# r sqared error\n",
        "score_1 = metrics.r2_score(Y_test, test_data_accuracy)\n",
        "print(score_1)"
      ],
      "metadata": {
        "colab": {
          "base_uri": "https://localhost:8080/"
        },
        "id": "LywJo9Oo3spg",
        "outputId": "8d932a25-c59b-427a-ae8c-ef9ce2a9156f"
      },
      "execution_count": 22,
      "outputs": [
        {
          "output_type": "stream",
          "name": "stdout",
          "text": [
            "0.9894643658016566\n"
          ]
        }
      ]
    },
    {
      "cell_type": "code",
      "source": [
        "Y_test = list(Y_test)\n",
        "Y_test"
      ],
      "metadata": {
        "colab": {
          "base_uri": "https://localhost:8080/"
        },
        "id": "DOUBjxy_4X63",
        "outputId": "9d11d232-d933-42eb-d6d3-f8e23f0a9e0d"
      },
      "execution_count": 25,
      "outputs": [
        {
          "output_type": "execute_result",
          "data": {
            "text/plain": [
              "[168.020004,\n",
              " 81.230003,\n",
              " 112.32,\n",
              " 127.589996,\n",
              " 119.620003,\n",
              " 154.210007,\n",
              " 148.910004,\n",
              " 126.190002,\n",
              " 117.470001,\n",
              " 125.739998,\n",
              " 115.379997,\n",
              " 167.119995,\n",
              " 141.630005,\n",
              " 169.559998,\n",
              " 115.599998,\n",
              " 119.669998,\n",
              " 132.949997,\n",
              " 170.399994,\n",
              " 159.369995,\n",
              " 173.529999,\n",
              " 154.720001,\n",
              " 128.119995,\n",
              " 177.720001,\n",
              " 157.190002,\n",
              " 125.309998,\n",
              " 93.400002,\n",
              " 76.790001,\n",
              " 119.690002,\n",
              " 118.989998,\n",
              " 167.389999,\n",
              " 87.5,\n",
              " 124.980003,\n",
              " 91.230003,\n",
              " 115.489998,\n",
              " 120.949997,\n",
              " 133.809998,\n",
              " 116.690002,\n",
              " 113.809998,\n",
              " 133.580002,\n",
              " 105.970001,\n",
              " 105.120003,\n",
              " 87.959999,\n",
              " 126.82,\n",
              " 116.860001,\n",
              " 159.259995,\n",
              " 119.459999,\n",
              " 109.160004,\n",
              " 108.620003,\n",
              " 93.269997,\n",
              " 127.160004,\n",
              " 72.260002,\n",
              " 113.470001,\n",
              " 119.68,\n",
              " 109.139999,\n",
              " 119.309998,\n",
              " 120.050003,\n",
              " 159.889999,\n",
              " 161.490005,\n",
              " 146.740005,\n",
              " 85.809998,\n",
              " 93.709999,\n",
              " 85.550003,\n",
              " 91.029999,\n",
              " 118.489998,\n",
              " 126.449997,\n",
              " 126.980003,\n",
              " 171.699997,\n",
              " 122.400002,\n",
              " 116.410004,\n",
              " 97.959999,\n",
              " 169.630005,\n",
              " 142.639999,\n",
              " 131.809998,\n",
              " 121.360001,\n",
              " 124.0,\n",
              " 119.699997,\n",
              " 113.889999,\n",
              " 118.919998,\n",
              " 105.639999,\n",
              " 127.669998,\n",
              " 114.32,\n",
              " 107.309998,\n",
              " 114.82,\n",
              " 119.230003,\n",
              " 86.860001,\n",
              " 87.010002,\n",
              " 147.729996,\n",
              " 128.199997,\n",
              " 113.260002,\n",
              " 110.82,\n",
              " 107.360001,\n",
              " 74.220001,\n",
              " 172.940002,\n",
              " 114.099998,\n",
              " 121.650002,\n",
              " 129.110001,\n",
              " 156.770004,\n",
              " 91.660004,\n",
              " 133.479996,\n",
              " 161.029999,\n",
              " 128.470001,\n",
              " 125.75,\n",
              " 132.289993,\n",
              " 114.019997,\n",
              " 118.230003,\n",
              " 93.709999,\n",
              " 111.150002,\n",
              " 164.289993,\n",
              " 157.770004,\n",
              " 115.510002,\n",
              " 107.129997,\n",
              " 83.309998,\n",
              " 115.150002,\n",
              " 125.540001,\n",
              " 106.080002,\n",
              " 120.580002,\n",
              " 157.139999,\n",
              " 161.059998,\n",
              " 120.309998,\n",
              " 133.070007,\n",
              " 103.949997,\n",
              " 116.360001,\n",
              " 119.309998,\n",
              " 112.370003,\n",
              " 102.839996,\n",
              " 161.199997,\n",
              " 97.050003,\n",
              " 147.830002,\n",
              " 125.32,\n",
              " 171.139999,\n",
              " 123.540001,\n",
              " 127.07,\n",
              " 127.959999,\n",
              " 114.830002,\n",
              " 111.540001,\n",
              " 122.849998,\n",
              " 100.5,\n",
              " 90.040001,\n",
              " 123.989998,\n",
              " 98.900002,\n",
              " 106.169998,\n",
              " 110.82,\n",
              " 120.389999,\n",
              " 98.849998,\n",
              " 122.449997,\n",
              " 162.300003,\n",
              " 86.650002,\n",
              " 106.150002,\n",
              " 116.43,\n",
              " 127.959999,\n",
              " 122.830002,\n",
              " 80.760002,\n",
              " 119.529999,\n",
              " 159.729996,\n",
              " 88.470001,\n",
              " 110.160004,\n",
              " 115.940002,\n",
              " 170.75,\n",
              " 102.339996,\n",
              " 105.019997,\n",
              " 122.730003,\n",
              " 160.330002,\n",
              " 86.949997,\n",
              " 93.190002,\n",
              " 111.43,\n",
              " 172.360001,\n",
              " 114.120003,\n",
              " 120.129997,\n",
              " 93.699997,\n",
              " 126.089996,\n",
              " 167.619995,\n",
              " 116.330002,\n",
              " 117.120003,\n",
              " 87.25,\n",
              " 149.199997,\n",
              " 118.690002,\n",
              " 89.419998,\n",
              " 113.650002,\n",
              " 115.519997,\n",
              " 118.669998,\n",
              " 86.989998,\n",
              " 93.830002,\n",
              " 116.550003,\n",
              " 118.300003,\n",
              " 121.800003,\n",
              " 127.660004,\n",
              " 122.699997,\n",
              " 137.710007,\n",
              " 163.630005,\n",
              " 118.43,\n",
              " 120.870003,\n",
              " 152.619995,\n",
              " 117.959999,\n",
              " 160.639999,\n",
              " 99.910004,\n",
              " 104.269997,\n",
              " 149.820007,\n",
              " 110.449997,\n",
              " 125.440002,\n",
              " 145.649994,\n",
              " 120.220001,\n",
              " 115.68,\n",
              " 113.029999,\n",
              " 112.150002,\n",
              " 134.050003,\n",
              " 118.059998,\n",
              " 102.610001,\n",
              " 116.339996,\n",
              " 104.68,\n",
              " 98.830002,\n",
              " 116.089996,\n",
              " 91.089996,\n",
              " 92.080002,\n",
              " 154.669998,\n",
              " 102.43,\n",
              " 154.770004,\n",
              " 113.68,\n",
              " 138.089996,\n",
              " 91.330002,\n",
              " 116.330002,\n",
              " 115.669998,\n",
              " 122.5438,\n",
              " 122.290001,\n",
              " 166.020004,\n",
              " 92.739998,\n",
              " 137.240005,\n",
              " 121.309998,\n",
              " 119.550003,\n",
              " 104.669998,\n",
              " 135.050003,\n",
              " 122.919998,\n",
              " 115.620003,\n",
              " 113.150002,\n",
              " 124.269997,\n",
              " 123.349998,\n",
              " 125.779999,\n",
              " 121.559998,\n",
              " 85.82,\n",
              " 132.449997,\n",
              " 154.869995,\n",
              " 92.059998,\n",
              " 148.970001,\n",
              " 161.880005,\n",
              " 127.199997,\n",
              " 167.350006,\n",
              " 108.559998,\n",
              " 110.440002,\n",
              " 104.209999,\n",
              " 95.769997,\n",
              " 129.470001,\n",
              " 108.349998,\n",
              " 149.119995,\n",
              " 121.730003,\n",
              " 131.699997,\n",
              " 131.960007,\n",
              " 160.990005,\n",
              " 90.57,\n",
              " 173.889999,\n",
              " 128.089996,\n",
              " 127.550003,\n",
              " 86.779999,\n",
              " 123.940002,\n",
              " 150.419998,\n",
              " 89.269997,\n",
              " 108.050003,\n",
              " 111.019997,\n",
              " 89.18,\n",
              " 138.369995,\n",
              " 156.220001,\n",
              " 134.660004,\n",
              " 73.580002,\n",
              " 152.970001,\n",
              " 126.559998,\n",
              " 126.139999,\n",
              " 127.75,\n",
              " 108.360001,\n",
              " 157.460007,\n",
              " 114.0,\n",
              " 116.989998,\n",
              " 126.860001,\n",
              " 155.240005,\n",
              " 120.650002,\n",
              " 156.990005,\n",
              " 92.790001,\n",
              " 125.389999,\n",
              " 124.889999,\n",
              " 88.25,\n",
              " 91.93,\n",
              " 126.339996,\n",
              " 128.839996,\n",
              " 112.889999,\n",
              " 117.360001,\n",
              " 119.739998,\n",
              " 128.179993,\n",
              " 121.480003,\n",
              " 134.199997,\n",
              " 93.900002,\n",
              " 118.900002,\n",
              " 112.300003,\n",
              " 94.779999,\n",
              " 108.699997,\n",
              " 86.709999,\n",
              " 110.260002,\n",
              " 88.639999,\n",
              " 93.239998,\n",
              " 131.320007,\n",
              " 163.089996,\n",
              " 90.120003,\n",
              " 119.82,\n",
              " 133.940002,\n",
              " 125.839996,\n",
              " 127.739998,\n",
              " 101.459999,\n",
              " 89.18,\n",
              " 132.199997,\n",
              " 122.150002,\n",
              " 110.529999,\n",
              " 172.070007,\n",
              " 115.279999,\n",
              " 85.389999,\n",
              " 121.959999,\n",
              " 90.760002,\n",
              " 161.300003,\n",
              " 116.519997,\n",
              " 120.400002,\n",
              " 160.490005,\n",
              " 121.489998,\n",
              " 114.949997,\n",
              " 109.980003,\n",
              " 126.529999,\n",
              " 73.449997,\n",
              " 102.040001,\n",
              " 130.229996,\n",
              " 121.099998,\n",
              " 91.169998,\n",
              " 132.089996,\n",
              " 117.970001,\n",
              " 116.110001,\n",
              " 156.25,\n",
              " 161.600006,\n",
              " 110.209999,\n",
              " 135.410004,\n",
              " 119.040001,\n",
              " 162.020004,\n",
              " 118.080002,\n",
              " 159.699997,\n",
              " 114.43,\n",
              " 117.980003,\n",
              " 147.770004,\n",
              " 115.330002,\n",
              " 126.230003,\n",
              " 165.589996,\n",
              " 116.790001,\n",
              " 125.029999,\n",
              " 153.229996,\n",
              " 153.470001,\n",
              " 132.809998,\n",
              " 115.029999,\n",
              " 120.959999,\n",
              " 126.470001,\n",
              " 93.089996,\n",
              " 122.519997,\n",
              " 151.410004,\n",
              " 111.669998,\n",
              " 106.949997,\n",
              " 162.619995,\n",
              " 120.050003,\n",
              " 165.160004,\n",
              " 131.570007,\n",
              " 116.169998,\n",
              " 152.990005,\n",
              " 169.429993,\n",
              " 110.57,\n",
              " 115.379997,\n",
              " 161.199997,\n",
              " 85.43,\n",
              " 128.110001,\n",
              " 127.269997,\n",
              " 129.210007,\n",
              " 125.610001,\n",
              " 124.230003,\n",
              " 91.099998,\n",
              " 151.619995,\n",
              " 96.089996,\n",
              " 136.179993,\n",
              " 90.25,\n",
              " 106.93,\n",
              " 115.470001,\n",
              " 111.540001,\n",
              " 126.309998,\n",
              " 90.919998,\n",
              " 125.410004,\n",
              " 163.350006,\n",
              " 117.959999,\n",
              " 166.070007,\n",
              " 127.790001,\n",
              " 111.5,\n",
              " 127.580002,\n",
              " 96.910004,\n",
              " 89.980003,\n",
              " 99.339996,\n",
              " 120.419998,\n",
              " 82.199997,\n",
              " 125.370003,\n",
              " 159.429993,\n",
              " 117.099998,\n",
              " 120.730003,\n",
              " 118.650002,\n",
              " 120.620003,\n",
              " 119.480003,\n",
              " 121.18,\n",
              " 118.809998,\n",
              " 107.559998,\n",
              " 146.380005,\n",
              " 122.830002,\n",
              " 115.43,\n",
              " 71.709999,\n",
              " 128.070007,\n",
              " 157.199997,\n",
              " 120.860001,\n",
              " 126.239998,\n",
              " 89.010002,\n",
              " 102.550003,\n",
              " 124.32,\n",
              " 119.910004,\n",
              " 72.150002,\n",
              " 150.75,\n",
              " 120.029999,\n",
              " 104.099998,\n",
              " 86.230003,\n",
              " 113.580002,\n",
              " 172.100006,\n",
              " 121.480003,\n",
              " 161.539993,\n",
              " 112.769997,\n",
              " 122.419998,\n",
              " 120.940002,\n",
              " 95.989998,\n",
              " 120.760002,\n",
              " 125.32,\n",
              " 118.080002,\n",
              " 97.730003,\n",
              " 154.649994,\n",
              " 120.589996,\n",
              " 143.470001,\n",
              " 160.589996,\n",
              " 111.629997,\n",
              " 122.120003,\n",
              " 146.240005,\n",
              " 127.959999,\n",
              " 164.119995,\n",
              " 133.429993,\n",
              " 122.379997,\n",
              " 166.380005,\n",
              " 106.379997,\n",
              " 122.239998,\n",
              " 133.830002,\n",
              " 102.360001]"
            ]
          },
          "metadata": {},
          "execution_count": 25
        }
      ]
    },
    {
      "cell_type": "code",
      "source": [
        "# compare acutal prices and predicted prices\n",
        "\n",
        "plt.plot(Y_test, color = 'blue', label='actual prices')\n",
        "plt.plot(test_data_accuracy, color='green', label = 'predicted prices')\n",
        "plt.title(\"actual vs predicted prices\")\n",
        "plt.xlabel(\"no. of values\")\n",
        "plt.ylabel(\"GLD\")\n",
        "plt.legend()\n",
        "plt.show()"
      ],
      "metadata": {
        "colab": {
          "base_uri": "https://localhost:8080/",
          "height": 295
        },
        "id": "z2ZXF-yy3ssv",
        "outputId": "b0154c9a-598b-4679-a726-699f03804cb6"
      },
      "execution_count": 27,
      "outputs": [
        {
          "output_type": "display_data",
          "data": {
            "text/plain": [
              "<Figure size 432x288 with 1 Axes>"
            ],
            "image/png": "[encoded data removed]"
          },
          "metadata": {
            "needs_background": "light"
          }
        }
      ]
    },
    {
      "cell_type": "code",
      "source": [
        ""
      ],
      "metadata": {
        "id": "YW-HRLa-3swG"
      },
      "execution_count": null,
      "outputs": []
    },
    {
      "cell_type": "code",
      "source": [
        ""
      ],
      "metadata": {
        "id": "rDZyrDbE3s0L"
      },
      "execution_count": null,
      "outputs": []
    },
    {
      "cell_type": "code",
      "source": [
        ""
      ],
      "metadata": {
        "id": "S54lo_Ks3s20"
      },
      "execution_count": null,
      "outputs": []
    },
    {
      "cell_type": "code",
      "source": [
        ""
      ],
      "metadata": {
        "id": "MUcwjMp_3s5y"
      },
      "execution_count": null,
      "outputs": []
    },
    {
      "cell_type": "code",
      "source": [
        ""
      ],
      "metadata": {
        "id": "h57FSzRn3s8k"
      },
      "execution_count": null,
      "outputs": []
    }
  ]
}